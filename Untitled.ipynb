{
 "cells": [
  {
   "cell_type": "code",
   "execution_count": 16,
   "id": "342afecd",
   "metadata": {},
   "outputs": [
    {
     "ename": "SyntaxError",
     "evalue": "invalid syntax (3044259581.py, line 1)",
     "output_type": "error",
     "traceback": [
      "\u001b[0;36m  Input \u001b[0;32mIn [16]\u001b[0;36m\u001b[0m\n\u001b[0;31m    def check1(int count1,stud,int Total_class):\u001b[0m\n\u001b[0m                   ^\u001b[0m\n\u001b[0;31mSyntaxError\u001b[0m\u001b[0;31m:\u001b[0m invalid syntax\n"
     ]
    }
   ],
   "source": [
    "\n",
    "def check(int count1,stud,int Total_class):\n",
    "    if(stud==\"y\"):\n",
    "        {\n",
    "        count1=count1+1;\n",
    "        Total_class=Total_class+1;\n",
    "        return count1;\n",
    "        return Total_class;\n",
    "        }\n",
    "        \n",
    "    \n",
    "    elif(stud==\"n\"):\n",
    "        {\n",
    "        Total_class=Total_class+1;\n",
    "        return Total_class;\n",
    "        \n",
    "        }\n",
    "    \n",
    "    else:\n",
    "        print(\"Invalid Input\");\n",
    "        \n",
    "        \n",
    "    \n",
    "int T1=0;\n",
    "int T2=0;\n",
    "int T3 =0;\n",
    "int sub1,sub2,sub3=0;\n",
    "print(\"Attendance Tracker\");\n",
    "print(\"Enter 1 to mark attendance\");\n",
    "print(\"Enter 2 to update attendance\");\n",
    "print(\"Enter 3 to view attendance\");\n",
    "x=int(input(\"Enter your choice:\"))\n",
    "if(x==1):{\n",
    "    print(\"To mark attendance\")\n",
    "    subj1=intput(\"present(y/n):\")\n",
    "    check(sub1,subj1,T1)\n",
    "    subj2=input(\"present(y/n):\")\n",
    "    check(sub2,subj2,T2)\n",
    "    subj3=input(\"present(y/n):\")\n",
    "    check(sub3,subj3,T3)\n",
    "}\n",
    "elif(x==2):{\n",
    "    y=input(\"Which subject you want to update(sub1,sub2,sub3):\")\n",
    "    x=int(input(\"'Enter your choice\\\n",
    "                1)To add attendance\\\n",
    "                2)To remove attendance\"'))\n",
    "    if(x==1):{\n",
    "        update2(y);\n",
    "    }\n",
    "    else:{\n",
    "        update1(y);\n",
    "    }\n",
    "}\n",
    "elif(x==3):{\n",
    "    print(\"View attendance\");\n",
    "    print(\"Subject 1 attendance\",sub1/T1);\n",
    "    print(\"Subject 2 attendance\",sub2/T2);\n",
    "    print(\"Subject 3 attendance\",sub3/T3);    \n",
    "    \n",
    "}\n",
    "else:\n",
    "    print(\"Invalid Input\")\n",
    "\n",
    "                \n"
   ]
  },
  {
   "cell_type": "code",
   "execution_count": null,
   "id": "412c8748",
   "metadata": {},
   "outputs": [],
   "source": []
  }
 ],
 "metadata": {
  "kernelspec": {
   "display_name": "Python 3 (ipykernel)",
   "language": "python",
   "name": "python3"
  },
  "language_info": {
   "codemirror_mode": {
    "name": "ipython",
    "version": 3
   },
   "file_extension": ".py",
   "mimetype": "text/x-python",
   "name": "python",
   "nbconvert_exporter": "python",
   "pygments_lexer": "ipython3",
   "version": "3.9.13"
  }
 },
 "nbformat": 4,
 "nbformat_minor": 5
}
